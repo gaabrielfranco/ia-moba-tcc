{
 "cells": [
  {
   "cell_type": "markdown",
   "metadata": {},
   "source": [
    "# Pipeline"
   ]
  },
  {
   "cell_type": "code",
   "execution_count": 1,
   "metadata": {},
   "outputs": [],
   "source": [
    "import pandas as pd"
   ]
  },
  {
   "cell_type": "markdown",
   "metadata": {},
   "source": [
    "### Feature Selection"
   ]
  },
  {
   "cell_type": "code",
   "execution_count": 69,
   "metadata": {},
   "outputs": [],
   "source": [
    "def gen_top10(top_10, filename):\n",
    "    df_top_10 = pd.DataFrame(columns=[\"Solution\", \"Evaluation\"])\n",
    "    for _, row in top_10.iterrows():\n",
    "        solution = \"\"\n",
    "        for key in row.keys().sort_values():\n",
    "            if row[key] == 1:\n",
    "                solution += (key + \", \")\n",
    "        new_row = []\n",
    "        new_row.append(solution[:len(solution) - 2])\n",
    "        new_row.append(row[\"evaluation\"])\n",
    "        df_top_10.loc[len(df_top_10.index)] = new_row\n",
    "    df_top_10.to_csv(\"feature_selection/output_ga/all/dez_execucoes/new_mut_only/\" + filename)"
   ]
  },
  {
   "cell_type": "code",
   "execution_count": 87,
   "metadata": {},
   "outputs": [
    {
     "name": "stdout",
     "output_type": "stream",
     "text": [
      "5\n"
     ]
    }
   ],
   "source": [
    "for i in range(1, 11):\n",
    "    tops = pd.read_csv(\"feature_selection/output_ga/all/dez_execucoes/new_mut_only/top_\" + str(i) + \".csv\")\n",
    "    gen_top10(tops, \"exec_\" + str(i) + \".csv\")"
   ]
  },
  {
   "cell_type": "code",
   "execution_count": 94,
   "metadata": {},
   "outputs": [
    {
     "name": "stdout",
     "output_type": "stream",
     "text": [
      "deaths, gold_per_min, hero_healing, necronomicon_kills, sentry_uses 0.29327559999999997\n",
      "deaths, hero_healing, sentry_uses, xp_per_min 0.2751782\n",
      "\n",
      "camps_stacked, deaths, gold_per_min, hero_healing, obs_placed 0.296151\n",
      "deaths, gold_per_min, hero_healing, necronomicon_kills, sentry_uses 0.29327559999999997\n",
      "deaths, gold_per_min, hero_healing, necronomicon_kills, observer_uses 0.28723099999999996\n",
      "deaths, gold_per_min, hero_healing, lane_efficiency, obs_placed 0.28705\n",
      "courier_kills, deaths, gold_per_min, hero_healing, sen_placed 0.286796\n",
      "courier_kills, deaths, gold_per_min, hero_healing, obs_placed 0.285631\n",
      "courier_kills, deaths, gold_per_min, hero_healing, sentry_uses 0.2852525\n",
      "deaths, gold_per_min, hero_healing, necronomicon_kills, obs_placed 0.28457\n",
      "camps_stacked, courier_kills, deaths, gold_per_min, hero_healing, sentry_uses 0.281906\n",
      "deaths, gold_per_min, hero_healing, lane_kills, sentry_uses 0.281413\n",
      "deaths, hero_healing, last_hits, necronomicon_kills, sentry_uses 0.28127800000000003\n",
      "camps_stacked, deaths, gold_per_min, hero_healing, sen_placed 0.280693\n",
      "deaths, gold_per_min, hero_healing, lane_efficiency, sen_placed 0.28022800000000003\n",
      "courier_kills, deaths, gold_per_min, lane_kills, obs_placed 0.278472\n",
      "courier_kills, deaths, gold_per_min, hero_healing, observer_uses 0.278431\n",
      "deaths, gold_per_min, hero_healing, lane_efficiency, necronomicon_kills, obs_placed 0.277503\n",
      "deaths, hero_healing, obs_placed, xp_per_min 0.276783\n",
      "deaths, hero_healing, lane_efficiency, last_hits, sentry_uses 0.276492\n",
      "deaths, gold_per_min, hero_healing, sentry_uses, tower_kills 0.276198\n",
      "courier_kills, deaths, gold_per_min, hero_healing, necronomicon_kills, sentry_uses 0.275463\n",
      "courier_kills, deaths, observer_uses, xp_per_min 0.27523200000000003\n",
      "deaths, hero_healing, sentry_uses, xp_per_min 0.2751782\n",
      "deaths, gold_per_min, hero_healing, necronomicon_kills, observer_uses, tower_damage 0.2748315\n",
      "deaths, hero_healing, lane_efficiency, obs_placed, xp_per_min 0.27478800000000003\n",
      "deaths, gold_per_min, hero_healing, necronomicon_kills, teamfight_participation 0.273948\n",
      "deaths, gold_per_min, hero_healing, roshans_killed, sentry_uses 0.273851\n",
      "deaths, hero_healing, lane_kills, sentry_uses, xp_per_min 0.273745\n",
      "deaths, gold_per_min, hero_healing, lane_kills, necronomicon_kills, sentry_uses 0.273558\n",
      "deaths, gold_per_min, hero_healing, roshan_kills, sentry_uses 0.273326\n",
      "courier_kills, deaths, gold_per_min, hero_healing, necronomicon_kills, obs_placed 0.273208\n",
      "deaths, gold_per_min, hero_healing, rune_pickups, sentry_uses 0.27255300000000005\n",
      "deaths, gold_per_min, hero_healing, necronomicon_kills, rune_pickups 0.272534\n",
      "deaths, gold_per_min, hero_healing, necronomicon_kills, tower_kills 0.272372\n",
      "deaths, gold_per_min, hero_healing, lane_efficiency, sentry_uses 0.271805\n",
      "actions_per_min, deaths, gold_per_min, hero_healing, sentry_uses 0.271545\n",
      "deaths, gold_per_min, gold_spent, hero_healing, sentry_uses 0.2713745\n",
      "deaths, gold_per_min, hero_healing, lane_kills, observer_uses 0.270965\n",
      "deaths, gold_per_min, hero_healing, lane_efficiency, necronomicon_kills, observer_uses 0.270594\n",
      "deaths, gold_per_min, hero_healing, lane_kills, necronomicon_kills, obs_placed 0.270331\n",
      "deaths, hero_healing, lane_efficiency, sentry_uses, xp_per_min 0.27018200000000003\n",
      "deaths, gold_per_min, hero_healing, necronomicon_kills, rune_pickups, sentry_uses 0.269753\n",
      "deaths, gold_per_min, hero_healing, necronomicon_kills, sentry_uses, tower_kills 0.26967\n",
      "deaths, gold_per_min, hero_healing, lane_kills, necronomicon_kills 0.269388\n",
      "deaths, gold_per_min, hero_healing, necronomicon_kills, sentry_uses, tower_damage 0.269303\n",
      "deaths, gold_per_min, hero_healing, sentry_uses, stuns 0.268818\n",
      "deaths, gold_per_min, hero_healing, lane_efficiency, necronomicon_kills, sentry_uses 0.26851800000000003\n",
      "actions_per_min, deaths, gold_per_min, hero_healing, sentry_uses, tower_kills 0.268362\n",
      "deaths, gold_per_min, gold_spent, hero_healing, necronomicon_kills, sentry_uses 0.268199\n",
      "deaths, gold_per_min, hero_healing, necronomicon_kills, observer_uses, rune_pickups 0.267926\n",
      "deaths, gold_per_min, hero_healing, necronomicon_kills, obs_placed, tower_kills 0.267602\n",
      "deaths, gold_spent, hero_healing, sentry_uses, xp_per_min 0.26700633333333335\n",
      "deaths, gold_per_min, hero_healing, necronomicon_kills, observer_uses, teamfight_participation 0.266757\n",
      "courier_kills, deaths, gold_per_min, hero_healing, teamfight_participation 0.26663400000000004\n",
      "actions_per_min, deaths, hero_healing, sentry_uses, xp_per_min 0.265972\n",
      "courier_kills, deaths, hero_healing, sentry_uses, xp_per_min 0.26513000000000003\n",
      "deaths, hero_healing, last_hits, necronomicon_kills, observer_uses 0.264686\n",
      "deaths, hero_healing, observer_uses, sentry_kills, xp_per_min 0.263826\n",
      "deaths, hero_healing, sentry_kills, sentry_uses, xp_per_min 0.26155500000000004\n",
      "courier_kills, deaths, gold_per_min, hero_healing, purchase_tpscroll 0.259932\n",
      "deaths, hero_healing, sentry_uses, stuns, xp_per_min 0.259525\n",
      "courier_kills, deaths, gold_per_min, necronomicon_kills, sen_placed 0.254821\n",
      "courier_kills, deaths, gold_per_min, necronomicon_kills, neutral_kills, sen_placed 0.245535\n",
      "camps_stacked, deaths, gold_per_min, necronomicon_kills, neutral_kills, obs_placed 0.242546\n",
      "deaths, gold_per_min, necronomicon_kills, roshan_kills, sen_placed 0.238894\n",
      "ancient_kills, courier_kills, deaths, gold_per_min, necronomicon_kills, sentry_uses 0.237279\n",
      "courier_kills, deaths, gold_per_min, neutral_kills, sen_placed 0.235247\n",
      "buyback_count, deaths, gold_per_min, observer_uses, tower_damage 0.235111\n",
      "courier_kills, deaths, gold_per_min, necronomicon_kills, roshan_kills, sen_placed 0.234524\n",
      "actions_per_min, courier_kills, deaths, gold_per_min, sen_placed 0.234288\n",
      "actions_per_min, courier_kills, deaths, gold_per_min, roshan_kills, sen_placed 0.233375\n",
      "deaths, gold_per_min, necronomicon_kills, sen_placed, sentry_kills 0.228793\n",
      "actions_per_min, deaths, gold_per_min, necronomicon_kills, sen_placed, sentry_kills 0.22523\n",
      "camps_stacked, deaths, gold_per_min, necronomicon_kills, obs_placed 0.224866\n",
      "camps_stacked, deaths, gold_per_min, lane_efficiency, necronomicon_kills, obs_placed 0.222223\n",
      "deaths, gold_per_min, lane_efficiency, necronomicon_kills, observer_uses, roshans_killed 0.220966\n",
      "deaths, gold_per_min, necronomicon_kills, neutral_kills, obs_placed, pings 0.219869\n",
      "deaths, gold_per_min, obs_placed, pings, teamfight_participation, tower_kills 0.219339\n",
      "camps_stacked, deaths, gold_per_min, necronomicon_kills, obs_placed, teamfight_participation 0.218261\n",
      "deaths, gold_per_min, necronomicon_kills, obs_placed, sentry_kills 0.217531\n",
      "deaths, gold_per_min, lane_kills, necronomicon_kills, obs_placed 0.216367\n"
     ]
    }
   ],
   "source": [
    "results = {}\n",
    "for i in range(1, 11):\n",
    "    df = pd.read_csv(\"feature_selection/output_ga/all/dez_execucoes/new_mut_only/exec_\" + str(i) + \".csv\", index_col = 0)\n",
    "    solutions = df[\"Solution\"].values\n",
    "    evaluation = df[\"Evaluation\"].values\n",
    "    solutions = solutions[:10]\n",
    "    evaluation = evaluation[:10]\n",
    "    \n",
    "    for i in range(len(solutions)):\n",
    "        try:\n",
    "            results[solutions[i]][0] += evaluation[i]\n",
    "            results[solutions[i]][1] += 1\n",
    "        except:\n",
    "            results[solutions[i]] = [evaluation[i], 1]\n",
    "\n",
    "cont = 0      \n",
    "for i in results:\n",
    "    if results[i][1] == 5:\n",
    "        print(i, results[i][0] / results[i][1])\n",
    "    results[i] = results[i][0] / results[i][1]\n",
    "\n",
    "print()\n",
    "    \n",
    "for _ in results:\n",
    "    maior = 0\n",
    "    metric = \"\"\n",
    "    for i in results:\n",
    "        if maior < results[i]:\n",
    "            maior = results[i]\n",
    "            metric = i\n",
    "    print(metric, maior)\n",
    "    results[metric] = -1"
   ]
  },
  {
   "cell_type": "code",
   "execution_count": null,
   "metadata": {},
   "outputs": [],
   "source": []
  }
 ],
 "metadata": {
  "kernelspec": {
   "display_name": "Python 3",
   "language": "python",
   "name": "python3"
  },
  "language_info": {
   "codemirror_mode": {
    "name": "ipython",
    "version": 3
   },
   "file_extension": ".py",
   "mimetype": "text/x-python",
   "name": "python",
   "nbconvert_exporter": "python",
   "pygments_lexer": "ipython3",
   "version": "3.7.3"
  }
 },
 "nbformat": 4,
 "nbformat_minor": 2
}
