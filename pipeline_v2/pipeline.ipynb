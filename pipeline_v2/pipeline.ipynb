{
 "cells": [
  {
   "cell_type": "markdown",
   "metadata": {},
   "source": [
    "# Pipeline"
   ]
  },
  {
   "cell_type": "code",
   "execution_count": 2,
   "metadata": {},
   "outputs": [],
   "source": [
    "import pandas as pd"
   ]
  },
  {
   "cell_type": "markdown",
   "metadata": {},
   "source": [
    "## Base de dados 1"
   ]
  },
  {
   "cell_type": "markdown",
   "metadata": {},
   "source": [
    "### Atributos"
   ]
  },
  {
   "cell_type": "code",
   "execution_count": 8,
   "metadata": {},
   "outputs": [
    {
     "data": {
      "text/html": [
       "<div>\n",
       "<style scoped>\n",
       "    .dataframe tbody tr th:only-of-type {\n",
       "        vertical-align: middle;\n",
       "    }\n",
       "\n",
       "    .dataframe tbody tr th {\n",
       "        vertical-align: top;\n",
       "    }\n",
       "\n",
       "    .dataframe thead th {\n",
       "        text-align: right;\n",
       "    }\n",
       "</style>\n",
       "<table border=\"1\" class=\"dataframe\">\n",
       "  <thead>\n",
       "    <tr style=\"text-align: right;\">\n",
       "      <th></th>\n",
       "      <th>kills</th>\n",
       "      <th>deaths</th>\n",
       "      <th>assists</th>\n",
       "      <th>denies</th>\n",
       "      <th>gold_per_min</th>\n",
       "      <th>xp_per_min</th>\n",
       "      <th>hero_damage</th>\n",
       "      <th>hero_healing</th>\n",
       "      <th>last_hits</th>\n",
       "    </tr>\n",
       "  </thead>\n",
       "  <tbody>\n",
       "    <tr>\n",
       "      <th>88470</th>\n",
       "      <td>3.870968</td>\n",
       "      <td>5.696774</td>\n",
       "      <td>10.838710</td>\n",
       "      <td>4.587097</td>\n",
       "      <td>368.690323</td>\n",
       "      <td>428.548387</td>\n",
       "      <td>12618.754839</td>\n",
       "      <td>368.683871</td>\n",
       "      <td>131.083871</td>\n",
       "    </tr>\n",
       "    <tr>\n",
       "      <th>95560</th>\n",
       "      <td>6.750000</td>\n",
       "      <td>4.000000</td>\n",
       "      <td>12.500000</td>\n",
       "      <td>9.750000</td>\n",
       "      <td>447.125000</td>\n",
       "      <td>481.375000</td>\n",
       "      <td>16293.875000</td>\n",
       "      <td>0.000000</td>\n",
       "      <td>139.625000</td>\n",
       "    </tr>\n",
       "    <tr>\n",
       "      <th>140746</th>\n",
       "      <td>3.235294</td>\n",
       "      <td>5.485294</td>\n",
       "      <td>8.617647</td>\n",
       "      <td>2.735294</td>\n",
       "      <td>268.367647</td>\n",
       "      <td>297.852941</td>\n",
       "      <td>5365.147059</td>\n",
       "      <td>923.470588</td>\n",
       "      <td>56.514706</td>\n",
       "    </tr>\n",
       "    <tr>\n",
       "      <th>153671</th>\n",
       "      <td>4.304348</td>\n",
       "      <td>5.739130</td>\n",
       "      <td>10.043478</td>\n",
       "      <td>2.739130</td>\n",
       "      <td>310.521739</td>\n",
       "      <td>345.695652</td>\n",
       "      <td>7326.739130</td>\n",
       "      <td>3.565217</td>\n",
       "      <td>82.347826</td>\n",
       "    </tr>\n",
       "    <tr>\n",
       "      <th>182666</th>\n",
       "      <td>1.800000</td>\n",
       "      <td>4.800000</td>\n",
       "      <td>10.200000</td>\n",
       "      <td>0.600000</td>\n",
       "      <td>262.800000</td>\n",
       "      <td>311.400000</td>\n",
       "      <td>4837.600000</td>\n",
       "      <td>958.200000</td>\n",
       "      <td>44.400000</td>\n",
       "    </tr>\n",
       "  </tbody>\n",
       "</table>\n",
       "</div>"
      ],
      "text/plain": [
       "           kills    deaths    assists    denies  gold_per_min  xp_per_min  \\\n",
       "88470   3.870968  5.696774  10.838710  4.587097    368.690323  428.548387   \n",
       "95560   6.750000  4.000000  12.500000  9.750000    447.125000  481.375000   \n",
       "140746  3.235294  5.485294   8.617647  2.735294    268.367647  297.852941   \n",
       "153671  4.304348  5.739130  10.043478  2.739130    310.521739  345.695652   \n",
       "182666  1.800000  4.800000  10.200000  0.600000    262.800000  311.400000   \n",
       "\n",
       "         hero_damage  hero_healing   last_hits  \n",
       "88470   12618.754839    368.683871  131.083871  \n",
       "95560   16293.875000      0.000000  139.625000  \n",
       "140746   5365.147059    923.470588   56.514706  \n",
       "153671   7326.739130      3.565217   82.347826  \n",
       "182666   4837.600000    958.200000   44.400000  "
      ]
     },
     "execution_count": 8,
     "metadata": {},
     "output_type": "execute_result"
    }
   ],
   "source": [
    "df1 = pd.read_csv(\"create_database/df_database.csv\", index_col=0)\n",
    "df1.head()"
   ]
  },
  {
   "cell_type": "markdown",
   "metadata": {},
   "source": [
    "### Análise de correlação"
   ]
  },
  {
   "cell_type": "code",
   "execution_count": 10,
   "metadata": {
    "scrolled": true
   },
   "outputs": [
    {
     "data": {
      "text/html": [
       "<div>\n",
       "<style scoped>\n",
       "    .dataframe tbody tr th:only-of-type {\n",
       "        vertical-align: middle;\n",
       "    }\n",
       "\n",
       "    .dataframe tbody tr th {\n",
       "        vertical-align: top;\n",
       "    }\n",
       "\n",
       "    .dataframe thead th {\n",
       "        text-align: right;\n",
       "    }\n",
       "</style>\n",
       "<table border=\"1\" class=\"dataframe\">\n",
       "  <thead>\n",
       "    <tr style=\"text-align: right;\">\n",
       "      <th></th>\n",
       "      <th>kills</th>\n",
       "      <th>deaths</th>\n",
       "      <th>assists</th>\n",
       "      <th>denies</th>\n",
       "      <th>gold_per_min</th>\n",
       "      <th>xp_per_min</th>\n",
       "      <th>hero_damage</th>\n",
       "      <th>hero_healing</th>\n",
       "      <th>last_hits</th>\n",
       "    </tr>\n",
       "  </thead>\n",
       "  <tbody>\n",
       "    <tr>\n",
       "      <th>kills</th>\n",
       "      <td>1.000000</td>\n",
       "      <td>-0.279723</td>\n",
       "      <td>-0.054426</td>\n",
       "      <td>0.672537</td>\n",
       "      <td>0.833340</td>\n",
       "      <td>0.824141</td>\n",
       "      <td>0.761419</td>\n",
       "      <td>-0.305228</td>\n",
       "      <td>0.728713</td>\n",
       "    </tr>\n",
       "    <tr>\n",
       "      <th>deaths</th>\n",
       "      <td>-0.279723</td>\n",
       "      <td>1.000000</td>\n",
       "      <td>0.292787</td>\n",
       "      <td>-0.367483</td>\n",
       "      <td>-0.450152</td>\n",
       "      <td>-0.329963</td>\n",
       "      <td>-0.167611</td>\n",
       "      <td>0.134924</td>\n",
       "      <td>-0.385167</td>\n",
       "    </tr>\n",
       "    <tr>\n",
       "      <th>assists</th>\n",
       "      <td>-0.054426</td>\n",
       "      <td>0.292787</td>\n",
       "      <td>1.000000</td>\n",
       "      <td>-0.297218</td>\n",
       "      <td>-0.192863</td>\n",
       "      <td>-0.076214</td>\n",
       "      <td>-0.000086</td>\n",
       "      <td>0.326692</td>\n",
       "      <td>-0.285557</td>\n",
       "    </tr>\n",
       "    <tr>\n",
       "      <th>denies</th>\n",
       "      <td>0.672537</td>\n",
       "      <td>-0.367483</td>\n",
       "      <td>-0.297218</td>\n",
       "      <td>1.000000</td>\n",
       "      <td>0.781890</td>\n",
       "      <td>0.760983</td>\n",
       "      <td>0.653555</td>\n",
       "      <td>-0.329984</td>\n",
       "      <td>0.776879</td>\n",
       "    </tr>\n",
       "    <tr>\n",
       "      <th>gold_per_min</th>\n",
       "      <td>0.833340</td>\n",
       "      <td>-0.450152</td>\n",
       "      <td>-0.192863</td>\n",
       "      <td>0.781890</td>\n",
       "      <td>1.000000</td>\n",
       "      <td>0.940259</td>\n",
       "      <td>0.720803</td>\n",
       "      <td>-0.327629</td>\n",
       "      <td>0.895328</td>\n",
       "    </tr>\n",
       "    <tr>\n",
       "      <th>xp_per_min</th>\n",
       "      <td>0.824141</td>\n",
       "      <td>-0.329963</td>\n",
       "      <td>-0.076214</td>\n",
       "      <td>0.760983</td>\n",
       "      <td>0.940259</td>\n",
       "      <td>1.000000</td>\n",
       "      <td>0.795622</td>\n",
       "      <td>-0.298105</td>\n",
       "      <td>0.863210</td>\n",
       "    </tr>\n",
       "    <tr>\n",
       "      <th>hero_damage</th>\n",
       "      <td>0.761419</td>\n",
       "      <td>-0.167611</td>\n",
       "      <td>-0.000086</td>\n",
       "      <td>0.653555</td>\n",
       "      <td>0.720803</td>\n",
       "      <td>0.795622</td>\n",
       "      <td>1.000000</td>\n",
       "      <td>-0.226366</td>\n",
       "      <td>0.765462</td>\n",
       "    </tr>\n",
       "    <tr>\n",
       "      <th>hero_healing</th>\n",
       "      <td>-0.305228</td>\n",
       "      <td>0.134924</td>\n",
       "      <td>0.326692</td>\n",
       "      <td>-0.329984</td>\n",
       "      <td>-0.327629</td>\n",
       "      <td>-0.298105</td>\n",
       "      <td>-0.226366</td>\n",
       "      <td>1.000000</td>\n",
       "      <td>-0.339394</td>\n",
       "    </tr>\n",
       "    <tr>\n",
       "      <th>last_hits</th>\n",
       "      <td>0.728713</td>\n",
       "      <td>-0.385167</td>\n",
       "      <td>-0.285557</td>\n",
       "      <td>0.776879</td>\n",
       "      <td>0.895328</td>\n",
       "      <td>0.863210</td>\n",
       "      <td>0.765462</td>\n",
       "      <td>-0.339394</td>\n",
       "      <td>1.000000</td>\n",
       "    </tr>\n",
       "  </tbody>\n",
       "</table>\n",
       "</div>"
      ],
      "text/plain": [
       "                 kills    deaths   assists    denies  gold_per_min  \\\n",
       "kills         1.000000 -0.279723 -0.054426  0.672537      0.833340   \n",
       "deaths       -0.279723  1.000000  0.292787 -0.367483     -0.450152   \n",
       "assists      -0.054426  0.292787  1.000000 -0.297218     -0.192863   \n",
       "denies        0.672537 -0.367483 -0.297218  1.000000      0.781890   \n",
       "gold_per_min  0.833340 -0.450152 -0.192863  0.781890      1.000000   \n",
       "xp_per_min    0.824141 -0.329963 -0.076214  0.760983      0.940259   \n",
       "hero_damage   0.761419 -0.167611 -0.000086  0.653555      0.720803   \n",
       "hero_healing -0.305228  0.134924  0.326692 -0.329984     -0.327629   \n",
       "last_hits     0.728713 -0.385167 -0.285557  0.776879      0.895328   \n",
       "\n",
       "              xp_per_min  hero_damage  hero_healing  last_hits  \n",
       "kills           0.824141     0.761419     -0.305228   0.728713  \n",
       "deaths         -0.329963    -0.167611      0.134924  -0.385167  \n",
       "assists        -0.076214    -0.000086      0.326692  -0.285557  \n",
       "denies          0.760983     0.653555     -0.329984   0.776879  \n",
       "gold_per_min    0.940259     0.720803     -0.327629   0.895328  \n",
       "xp_per_min      1.000000     0.795622     -0.298105   0.863210  \n",
       "hero_damage     0.795622     1.000000     -0.226366   0.765462  \n",
       "hero_healing   -0.298105    -0.226366      1.000000  -0.339394  \n",
       "last_hits       0.863210     0.765462     -0.339394   1.000000  "
      ]
     },
     "execution_count": 10,
     "metadata": {},
     "output_type": "execute_result"
    }
   ],
   "source": [
    "df1.corr()"
   ]
  },
  {
   "cell_type": "markdown",
   "metadata": {},
   "source": [
    "### Numero de grupos do k-means\n",
    "\n",
    "![](img/std/k_analysis.png)"
   ]
  },
  {
   "cell_type": "markdown",
   "metadata": {},
   "source": [
    "### Distribuição de jogadores por cluster\n",
    "\n",
    "![](img/std/cluster_dist.png)"
   ]
  },
  {
   "cell_type": "markdown",
   "metadata": {},
   "source": [
    "### Coeficiente de silhueta\n",
    "\n",
    "![](img/std/silhouette_score.png)"
   ]
  },
  {
   "cell_type": "markdown",
   "metadata": {},
   "source": [
    "### Starplot dos centróides\n",
    "\n",
    "![](img/std/cluster_starplot.png)"
   ]
  },
  {
   "cell_type": "markdown",
   "metadata": {},
   "source": [
    "### ECDF do KDA\n",
    "\n",
    "![](img/std/kda_ecdf.png)"
   ]
  },
  {
   "cell_type": "markdown",
   "metadata": {},
   "source": [
    "### Feature Selection"
   ]
  },
  {
   "cell_type": "markdown",
   "metadata": {},
   "source": [
    "| Solution                                                 | Evaluation |\n",
    "|----------------------------------------------------------|------------|\n",
    "| deaths, gold_per_min, hero_healing                       | 0,186726   |\n",
    "| deaths, xp_per_min, hero_healing                         | 0,184474   |\n",
    "| deaths, assists, gold_per_min, hero_healing              | 0,169698   |\n",
    "| deaths, gold_per_min, hero_damage, hero_healing          | 0,163692   |\n",
    "| deaths, hero_healing, last_hits                          | 0,162101   |\n",
    "| deaths, assists, hero_healing, last_hits                 | 0,147110   |\n",
    "| deaths, assists, gold_per_min, hero_damage               | 0,137250   |\n",
    "| deaths, assists, xp_per_min, hero_healing                | 0,130406   |\n",
    "| deaths, assists, gold_per_min, hero_damage, hero_healing | 0,118905   |\n",
    "| kills, deaths, hero_healing, last_hits                   | 0,117695   |"
   ]
  },
  {
   "cell_type": "markdown",
   "metadata": {},
   "source": [
    "## Base de dados 2"
   ]
  },
  {
   "cell_type": "markdown",
   "metadata": {},
   "source": [
    "### Atributos"
   ]
  },
  {
   "cell_type": "code",
   "execution_count": 14,
   "metadata": {
    "scrolled": true
   },
   "outputs": [
    {
     "data": {
      "text/plain": [
       "Index(['kills', 'deaths', 'assists', 'denies', 'gold_per_min', 'xp_per_min',\n",
       "       'hero_damage', 'hero_healing', 'last_hits', 'firstblood_claimed',\n",
       "       'obs_placed', 'rune_pickups', 'sen_placed', 'teamfight_participation',\n",
       "       'tower_damage', 'towers_killed', 'neutral_kills', 'courier_kills',\n",
       "       'observer_kills', 'sentry_kills', 'ancient_kills'],\n",
       "      dtype='object')"
      ]
     },
     "execution_count": 14,
     "metadata": {},
     "output_type": "execute_result"
    }
   ],
   "source": [
    "df2 = pd.read_csv(\"create_database/df_database_all.csv\", index_col=0)\n",
    "df2.keys()"
   ]
  },
  {
   "cell_type": "markdown",
   "metadata": {},
   "source": [
    "### Numero de grupos do k-means\n",
    "\n",
    "![](img/all/k_analysis.png)"
   ]
  },
  {
   "cell_type": "markdown",
   "metadata": {},
   "source": [
    "### Distribuição de jogadores por cluster\n",
    "\n",
    "![](img/all/cluster_dist.png)"
   ]
  },
  {
   "cell_type": "markdown",
   "metadata": {},
   "source": [
    "### Coeficiente de silhueta\n",
    "\n",
    "![](img/all/silhouette_score.png)"
   ]
  },
  {
   "cell_type": "markdown",
   "metadata": {},
   "source": [
    "### Starplot dos centróides\n",
    "\n",
    "![](img/all/cluster_starplot.png)"
   ]
  },
  {
   "cell_type": "markdown",
   "metadata": {},
   "source": [
    "### ECDF do KDA\n",
    "\n",
    "![](img/all/kda_ecdf.png)"
   ]
  },
  {
   "cell_type": "markdown",
   "metadata": {},
   "source": [
    "### Feature Selection"
   ]
  },
  {
   "cell_type": "code",
   "execution_count": 18,
   "metadata": {},
   "outputs": [],
   "source": [
    "top_10 = pd.read_csv(\"feature_selection/output_ga/all/top10.csv\")"
   ]
  },
  {
   "cell_type": "code",
   "execution_count": 38,
   "metadata": {},
   "outputs": [
    {
     "data": {
      "text/html": [
       "<div>\n",
       "<style scoped>\n",
       "    .dataframe tbody tr th:only-of-type {\n",
       "        vertical-align: middle;\n",
       "    }\n",
       "\n",
       "    .dataframe tbody tr th {\n",
       "        vertical-align: top;\n",
       "    }\n",
       "\n",
       "    .dataframe thead th {\n",
       "        text-align: right;\n",
       "    }\n",
       "</style>\n",
       "<table border=\"1\" class=\"dataframe\">\n",
       "  <thead>\n",
       "    <tr style=\"text-align: right;\">\n",
       "      <th></th>\n",
       "      <th>Solution</th>\n",
       "      <th>Evaluation</th>\n",
       "    </tr>\n",
       "  </thead>\n",
       "  <tbody>\n",
       "    <tr>\n",
       "      <th>0</th>\n",
       "      <td>deaths, gold_per_min, hero_healing, obs_placed...</td>\n",
       "      <td>0.299032</td>\n",
       "    </tr>\n",
       "    <tr>\n",
       "      <th>1</th>\n",
       "      <td>deaths, gold_per_min, hero_healing, obs_placed...</td>\n",
       "      <td>0.271765</td>\n",
       "    </tr>\n",
       "    <tr>\n",
       "      <th>2</th>\n",
       "      <td>deaths, xp_per_min, hero_healing, sen_placed, ...</td>\n",
       "      <td>0.271048</td>\n",
       "    </tr>\n",
       "    <tr>\n",
       "      <th>3</th>\n",
       "      <td>deaths, gold_per_min, hero_healing, sen_placed...</td>\n",
       "      <td>0.270600</td>\n",
       "    </tr>\n",
       "    <tr>\n",
       "      <th>4</th>\n",
       "      <td>deaths, gold_per_min, hero_healing, sen_placed...</td>\n",
       "      <td>0.269916</td>\n",
       "    </tr>\n",
       "    <tr>\n",
       "      <th>5</th>\n",
       "      <td>deaths, gold_per_min, hero_healing, sen_placed,</td>\n",
       "      <td>0.269336</td>\n",
       "    </tr>\n",
       "    <tr>\n",
       "      <th>6</th>\n",
       "      <td>deaths, gold_per_min, hero_healing, sen_placed...</td>\n",
       "      <td>0.266539</td>\n",
       "    </tr>\n",
       "    <tr>\n",
       "      <th>7</th>\n",
       "      <td>deaths, gold_per_min, hero_healing, sen_placed...</td>\n",
       "      <td>0.264025</td>\n",
       "    </tr>\n",
       "    <tr>\n",
       "      <th>8</th>\n",
       "      <td>deaths, xp_per_min, hero_healing, obs_placed, ...</td>\n",
       "      <td>0.259231</td>\n",
       "    </tr>\n",
       "    <tr>\n",
       "      <th>9</th>\n",
       "      <td>deaths, gold_per_min, hero_healing, obs_placed...</td>\n",
       "      <td>0.256496</td>\n",
       "    </tr>\n",
       "  </tbody>\n",
       "</table>\n",
       "</div>"
      ],
      "text/plain": [
       "                                            Solution  Evaluation\n",
       "0  deaths, gold_per_min, hero_healing, obs_placed...    0.299032\n",
       "1  deaths, gold_per_min, hero_healing, obs_placed...    0.271765\n",
       "2  deaths, xp_per_min, hero_healing, sen_placed, ...    0.271048\n",
       "3  deaths, gold_per_min, hero_healing, sen_placed...    0.270600\n",
       "4  deaths, gold_per_min, hero_healing, sen_placed...    0.269916\n",
       "5   deaths, gold_per_min, hero_healing, sen_placed,     0.269336\n",
       "6  deaths, gold_per_min, hero_healing, sen_placed...    0.266539\n",
       "7  deaths, gold_per_min, hero_healing, sen_placed...    0.264025\n",
       "8  deaths, xp_per_min, hero_healing, obs_placed, ...    0.259231\n",
       "9  deaths, gold_per_min, hero_healing, obs_placed...    0.256496"
      ]
     },
     "execution_count": 38,
     "metadata": {},
     "output_type": "execute_result"
    }
   ],
   "source": [
    "df_top_10 = pd.DataFrame(columns=[\"Solution\", \"Evaluation\"])\n",
    "for _, row in top_10.iterrows():\n",
    "    solution = \"\"\n",
    "    for key in row.keys():\n",
    "        if row[key] == 1:\n",
    "            solution += (key + \", \")\n",
    "    new_row = []\n",
    "    new_row.append(solution)\n",
    "    new_row.append(row[\"evaluation\"])\n",
    "    df_top_10.loc[len(df_top_10.index)] = new_row\n",
    "df_top_10"
   ]
  },
  {
   "cell_type": "code",
   "execution_count": 39,
   "metadata": {},
   "outputs": [],
   "source": [
    "df_top_10.to_csv(\"feature_selection/output_ga/all/top10_metrics.csv\")"
   ]
  },
  {
   "cell_type": "markdown",
   "metadata": {},
   "source": [
    "## TODO\n",
    "\n",
    "- Adicionar os atributos que faltam (se aparecer nas métricas, descobrir o significado)\n",
    "- Refazer o pipeline\n",
    "- Testar limeares = 0.5, 0.6, ..., 0.9\n",
    "- Centroid vs centroid par a par"
   ]
  }
 ],
 "metadata": {
  "kernelspec": {
   "display_name": "Python 3",
   "language": "python",
   "name": "python3"
  },
  "language_info": {
   "codemirror_mode": {
    "name": "ipython",
    "version": 3
   },
   "file_extension": ".py",
   "mimetype": "text/x-python",
   "name": "python",
   "nbconvert_exporter": "python",
   "pygments_lexer": "ipython3",
   "version": "3.5.2"
  }
 },
 "nbformat": 4,
 "nbformat_minor": 2
}
